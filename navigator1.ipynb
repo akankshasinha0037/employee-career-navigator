{
  "nbformat": 4,
  "nbformat_minor": 0,
  "metadata": {
    "colab": {
      "provenance": []
    },
    "kernelspec": {
      "name": "python3",
      "display_name": "Python 3"
    },
    "language_info": {
      "name": "python"
    }
  },
  "cells": [
    {
      "cell_type": "code",
      "source": [
        "import nltk\n",
        "\n",
        "# Download the Punkt tokenizer\n",
        "nltk.download('punkt')\n",
        "import nltk\n",
        "\n",
        "# Download the stopwords corpus\n",
        "nltk.download('stopwords')"
      ],
      "metadata": {
        "colab": {
          "base_uri": "https://localhost:8080/"
        },
        "id": "852Rpimj4M7j",
        "outputId": "61dcde17-0295-4f44-cfa9-9c703422a566"
      },
      "execution_count": 2,
      "outputs": [
        {
          "output_type": "stream",
          "name": "stderr",
          "text": [
            "[nltk_data] Downloading package punkt to /root/nltk_data...\n",
            "[nltk_data]   Unzipping tokenizers/punkt.zip.\n",
            "[nltk_data] Downloading package stopwords to /root/nltk_data...\n",
            "[nltk_data]   Unzipping corpora/stopwords.zip.\n"
          ]
        },
        {
          "output_type": "execute_result",
          "data": {
            "text/plain": [
              "True"
            ]
          },
          "metadata": {},
          "execution_count": 2
        }
      ]
    },
    {
      "cell_type": "code",
      "execution_count": 3,
      "metadata": {
        "colab": {
          "base_uri": "https://localhost:8080/"
        },
        "id": "Civ__17Izni-",
        "outputId": "8f2e73ca-186b-4016-b05a-b12a5f324c7a"
      },
      "outputs": [
        {
          "output_type": "stream",
          "name": "stdout",
          "text": [
            "Recommended Career Options for Arnav Kapoor:\n",
            "Chief Marketing Officer (Similarity Score: 0.46)\n",
            "Missing Skills:\n",
            "marketing automation crm\n",
            "Development Track:\n",
            "Develop skills in marketing automation crm to progress toward Chief Marketing Officer\n",
            "\n",
            "\n",
            "HR Business Partner (Similarity Score: 0.37)\n",
            "Missing Skills:\n",
            "hris performance management systems\n",
            "Development Track:\n",
            "Develop skills in hris performance management systems to progress toward HR Business Partner\n",
            "\n",
            "\n",
            "Chief Financial Officer (CFO) (Similarity Score: 0.34)\n",
            "Missing Skills:\n",
            "sap hyperion financial reporting\n",
            "Development Track:\n",
            "Develop skills in sap hyperion financial reporting to progress toward Chief Financial Officer (CFO)\n",
            "\n",
            "\n"
          ]
        }
      ],
      "source": [
        "import pandas as pd\n",
        "from sklearn.feature_extraction.text import TfidfVectorizer\n",
        "from sklearn.metrics.pairwise import linear_kernel\n",
        "from nltk.tokenize import word_tokenize\n",
        "from nltk.corpus import stopwords\n",
        "import string\n",
        "\n",
        "# Sample CSV file with employee details\n",
        "csv_file_path = 'employee_data.csv'\n",
        "\n",
        "# Load the CSV file into a DataFrame\n",
        "df = pd.read_csv(csv_file_path)\n",
        "\n",
        "# Function to clean and tokenize text\n",
        "def clean_and_tokenize(text):\n",
        "    # Convert to lowercase\n",
        "    text = text.lower()\n",
        "    # Remove punctuation and numbers\n",
        "    text = ''.join([char for char in text if char not in string.punctuation and not char.isdigit()])\n",
        "    # Tokenize\n",
        "    tokens = word_tokenize(text)\n",
        "    # Remove stopwords\n",
        "    tokens = [word for word in tokens if word not in stopwords.words('english')]\n",
        "    return ' '.join(tokens)\n",
        "\n",
        "# Clean and tokenize the 'current_tech_stack', 'current_job', and 'current_soft_skills' columns\n",
        "df['clean_tech_stack'] = df['current_tech_stack'].apply(clean_and_tokenize)\n",
        "df['clean_job'] = df['current_job'].apply(clean_and_tokenize)\n",
        "df['clean_soft_skills'] = df['current_soft_skills'].apply(clean_and_tokenize)\n",
        "\n",
        "# Create a TF-IDF vectorizer for tech stack, job roles, and soft skills\n",
        "vectorizer = TfidfVectorizer()\n",
        "\n",
        "# Combine tech stack, job roles, and soft skills into a single text\n",
        "df['combined_text'] = df['clean_tech_stack'] + ' ' + df['clean_job'] + ' ' + df['clean_soft_skills']\n",
        "\n",
        "# Create TF-IDF matrices\n",
        "tfidf_matrix = vectorizer.fit_transform(df['combined_text'])\n",
        "\n",
        "# Compute cosine similarity\n",
        "cosine_similarities = linear_kernel(tfidf_matrix, tfidf_matrix)\n",
        "\n",
        "# Function to recommend career options based on tech stack, job role, and soft skills\n",
        "def recommend_career_options(employee_index, df):\n",
        "    # Get the cosine similarity scores for the employee\n",
        "    similarity_scores = list(enumerate(cosine_similarities[employee_index]))\n",
        "\n",
        "    # Sort the career options based on similarity scores\n",
        "    sorted_career_options = sorted(similarity_scores, key=lambda x: x[1], reverse=True)\n",
        "\n",
        "    # Extract top 3 career options\n",
        "    top_career_options = sorted_career_options[1:4]  # Exclude the employee itself (similarity score with itself is 1)\n",
        "\n",
        "    # Display the recommended career options\n",
        "    print(f\"Recommended Career Options for {df.at[employee_index, 'EMPLOYEE NAME']}:\")\n",
        "    for option_index, similarity_score in top_career_options:\n",
        "        recommended_job = df.at[option_index, 'current_job']\n",
        "        print(f\"{recommended_job} (Similarity Score: {similarity_score:.2f})\")\n",
        "\n",
        "        # Identify missing skills for the recommended job\n",
        "        missing_skills = set(df.at[option_index, 'clean_tech_stack'].split(',')) - set(df.at[employee_index, 'clean_tech_stack'].split(','))\n",
        "\n",
        "        # Display missing skills\n",
        "        print(\"Missing Skills:\")\n",
        "        print(', '.join(missing_skills))\n",
        "\n",
        "        # Infer development track based on recommended job's skills\n",
        "        development_track = f\"Develop skills in {', '.join(missing_skills)} to progress toward {recommended_job}\"\n",
        "        print(\"Development Track:\")\n",
        "        print(development_track)\n",
        "        print(\"\\n\")\n",
        "\n",
        "# Example: Recommend career options for the employee at index 0\n",
        "recommend_career_options(0, df)"
      ]
    },
    {
      "cell_type": "code",
      "source": [],
      "metadata": {
        "id": "Nw1aSQyT1cPt"
      },
      "execution_count": null,
      "outputs": []
    }
  ]
}